{
 "cells": [
  {
   "cell_type": "code",
   "execution_count": 1,
   "metadata": {
    "collapsed": true
   },
   "outputs": [],
   "source": [
    "import pandas as pd\n",
    "import numpy as np\n",
    "import requests\n",
    "import string\n",
    "from bs4 import BeautifulSoup"
   ]
  },
  {
   "cell_type": "code",
   "execution_count": 206,
   "metadata": {
    "collapsed": false
   },
   "outputs": [],
   "source": [
    "def scrapePage(url):\n",
    "    fighters = []\n",
    "    response = requests.get(url)\n",
    "    soup = BeautifulSoup(response.content, 'lxml')\n",
    "    rows = soup.find('table').find('tbody').find_all('tr')\n",
    "    for row in rows[1:]:\n",
    "        #iterate through each fighter\n",
    "        attrs= row.find_all('td')\n",
    "        wins = int(attrs[7].text.strip())\n",
    "        losses =int(attrs[8].text.strip())\n",
    "        draws = int(attrs[9].text.strip())\n",
    "        if wins+losses+draws>=1:\n",
    "            play_dict = {}\n",
    "            play_dict['wins'] = wins\n",
    "            play_dict['losses'] = losses\n",
    "            play_dict['draws'] = draws\n",
    "            play_dict['first_name'] = attrs[0].text.strip()\n",
    "            play_dict['last_name'] = attrs[1].text.strip()\n",
    "            play_dict['height'] = attrs[3].text.strip()\n",
    "            play_dict['weight'] = attrs[4].text.strip()\n",
    "            play_dict['reach'] = attrs[5].text.strip()\n",
    "            play_dict['stance'] = attrs[6].text.strip()\n",
    "            splitter = '>' + play_dict['first_name']\n",
    "            \n",
    "            play_dict['url'] = str(row.find('td')).split(splitter)[0].split('s/')[-1]\n",
    "            fighters.append(play_dict)\n",
    "        else:\n",
    "            pass\n",
    "    return fighters\n",
    "    "
   ]
  },
  {
   "cell_type": "code",
   "execution_count": 207,
   "metadata": {
    "collapsed": false
   },
   "outputs": [],
   "source": [
    "def scrapeAll():\n",
    "    letters = list(string.ascii_lowercase)\n",
    "    for i, letter in enumerate(letters):\n",
    "        print letter\n",
    "        url = 'http://www.fightmetric.com/statistics/fighters?char={}&page=all'.format(letter)\n",
    "        if i ==0:\n",
    "            fighters = scrapePage(url)\n",
    "        else:\n",
    "            fighters+=scrapePage(url)\n",
    "    df = pd.DataFrame(fighters)\n",
    "    df['fighter_id'] = range(df.shape[0])\n",
    "    return df"
   ]
  },
  {
   "cell_type": "code",
   "execution_count": 208,
   "metadata": {
    "collapsed": false
   },
   "outputs": [
    {
     "name": "stdout",
     "output_type": "stream",
     "text": [
      "a\n",
      "b\n",
      "c\n",
      "d\n",
      "e\n",
      "f\n",
      "g\n",
      "h\n",
      "i\n",
      "j\n",
      "k\n",
      "l\n",
      "m\n",
      "n\n",
      "o\n",
      "p\n",
      "q\n",
      "r\n",
      "s\n",
      "t\n",
      "u\n",
      "v\n",
      "w\n",
      "x\n",
      "y\n",
      "z\n"
     ]
    }
   ],
   "source": [
    "df= scrapeAll()"
   ]
  },
  {
   "cell_type": "code",
   "execution_count": 254,
   "metadata": {
    "collapsed": true
   },
   "outputs": [],
   "source": [
    "df = pd.read_csv('fighters_over15.csv')"
   ]
  },
  {
   "cell_type": "code",
   "execution_count": 212,
   "metadata": {
    "collapsed": false
   },
   "outputs": [
    {
     "data": {
      "text/html": [
       "<div>\n",
       "<table border=\"1\" class=\"dataframe\">\n",
       "  <thead>\n",
       "    <tr style=\"text-align: right;\">\n",
       "      <th></th>\n",
       "      <th>draws</th>\n",
       "      <th>first_name</th>\n",
       "      <th>height</th>\n",
       "      <th>last_name</th>\n",
       "      <th>losses</th>\n",
       "      <th>reach</th>\n",
       "      <th>stance</th>\n",
       "      <th>url</th>\n",
       "      <th>weight</th>\n",
       "      <th>wins</th>\n",
       "      <th>fighter_id</th>\n",
       "    </tr>\n",
       "  </thead>\n",
       "  <tbody>\n",
       "    <tr>\n",
       "      <th>0</th>\n",
       "      <td>0</td>\n",
       "      <td>David</td>\n",
       "      <td>6' 0\"</td>\n",
       "      <td>Abbott</td>\n",
       "      <td>14</td>\n",
       "      <td>--</td>\n",
       "      <td>Switch</td>\n",
       "      <td>b361180739bed4b0\"</td>\n",
       "      <td>265 lbs.</td>\n",
       "      <td>10</td>\n",
       "      <td>0</td>\n",
       "    </tr>\n",
       "    <tr>\n",
       "      <th>1</th>\n",
       "      <td>0</td>\n",
       "      <td>Shamil</td>\n",
       "      <td>6' 3\"</td>\n",
       "      <td>Abdurakhimov</td>\n",
       "      <td>4</td>\n",
       "      <td>76.0\"</td>\n",
       "      <td>Orthodox</td>\n",
       "      <td>2f5cbecbbe18bac4\"</td>\n",
       "      <td>235 lbs.</td>\n",
       "      <td>18</td>\n",
       "      <td>1</td>\n",
       "    </tr>\n",
       "    <tr>\n",
       "      <th>2</th>\n",
       "      <td>3</td>\n",
       "      <td>Hiroyuki</td>\n",
       "      <td>5' 6\"</td>\n",
       "      <td>Abe</td>\n",
       "      <td>14</td>\n",
       "      <td>--</td>\n",
       "      <td>Orthodox</td>\n",
       "      <td>c0ed7b208197e8de\"</td>\n",
       "      <td>145 lbs.</td>\n",
       "      <td>8</td>\n",
       "      <td>2</td>\n",
       "    </tr>\n",
       "    <tr>\n",
       "      <th>3</th>\n",
       "      <td>0</td>\n",
       "      <td>Daniel</td>\n",
       "      <td>5' 8\"</td>\n",
       "      <td>Acacio</td>\n",
       "      <td>12</td>\n",
       "      <td>--</td>\n",
       "      <td>Orthodox</td>\n",
       "      <td>1c5879330d42255f\"</td>\n",
       "      <td>180 lbs.</td>\n",
       "      <td>26</td>\n",
       "      <td>3</td>\n",
       "    </tr>\n",
       "    <tr>\n",
       "      <th>4</th>\n",
       "      <td>2</td>\n",
       "      <td>Sam</td>\n",
       "      <td>6' 3\"</td>\n",
       "      <td>Adkins</td>\n",
       "      <td>20</td>\n",
       "      <td>--</td>\n",
       "      <td>Orthodox</td>\n",
       "      <td>0e9869d712e81f8f\"</td>\n",
       "      <td>225 lbs.</td>\n",
       "      <td>7</td>\n",
       "      <td>4</td>\n",
       "    </tr>\n",
       "  </tbody>\n",
       "</table>\n",
       "</div>"
      ],
      "text/plain": [
       "   draws first_name height     last_name  losses  reach    stance  \\\n",
       "0      0      David  6' 0\"        Abbott      14     --    Switch   \n",
       "1      0     Shamil  6' 3\"  Abdurakhimov       4  76.0\"  Orthodox   \n",
       "2      3   Hiroyuki  5' 6\"           Abe      14     --  Orthodox   \n",
       "3      0     Daniel  5' 8\"        Acacio      12     --  Orthodox   \n",
       "4      2        Sam  6' 3\"        Adkins      20     --  Orthodox   \n",
       "\n",
       "                 url    weight  wins  fighter_id  \n",
       "0  b361180739bed4b0\"  265 lbs.    10           0  \n",
       "1  2f5cbecbbe18bac4\"  235 lbs.    18           1  \n",
       "2  c0ed7b208197e8de\"  145 lbs.     8           2  \n",
       "3  1c5879330d42255f\"  180 lbs.    26           3  \n",
       "4  0e9869d712e81f8f\"  225 lbs.     7           4  "
      ]
     },
     "execution_count": 212,
     "metadata": {},
     "output_type": "execute_result"
    }
   ],
   "source": [
    "df.head()"
   ]
  },
  {
   "cell_type": "code",
   "execution_count": null,
   "metadata": {
    "collapsed": true
   },
   "outputs": [],
   "source": [
    "def scrapeFighterStats(fighter_url):\n",
    "    #grab career statistics for each fighter\n",
    "    url = 'http://www.fightmetric.com/fighter-details/{}'.format(fighter_url)\n",
    "    response = requests.get(url)\n",
    "    soup = BeautifulSoup(response.content, 'lxml')"
   ]
  },
  {
   "cell_type": "code",
   "execution_count": 216,
   "metadata": {
    "collapsed": false
   },
   "outputs": [],
   "source": [
    "fighter_url = 'b361180739bed4b0'\n",
    "url = 'http://www.fightmetric.com/fighter-details/{}'.format(fighter_url)\n",
    "response = requests.get(url)\n",
    "soup = BeautifulSoup(response.content, 'lxml')"
   ]
  },
  {
   "cell_type": "code",
   "execution_count": 222,
   "metadata": {
    "collapsed": false
   },
   "outputs": [],
   "source": [
    "left = soup.find('ul', {'class':'b-list__box-list b-list__box-list_margin-top'}).find_all('li')"
   ]
  },
  {
   "cell_type": "code",
   "execution_count": 264,
   "metadata": {
    "collapsed": true
   },
   "outputs": [],
   "source": [
    "def careerStats(fighter_url):\n",
    "    url = 'http://www.fightmetric.com/fighter-details/{}'.format(fighter_url)\n",
    "    response = requests.get(url)\n",
    "    soup = BeautifulSoup(response.content, 'lxml')\n",
    "    dict_fighter = {}\n",
    "    left = soup.find('ul', {'class':'b-list__box-list b-list__box-list_margin-top'}).find_all('li')\n",
    "    right = soup.find_all('ul', {'class':'b-list__box-list b-list__box-list_margin-top'})[1].find_all('li')\n",
    "    dict_fighter['url'] = fighter_url\n",
    "    for row in left:\n",
    "        attrs = row.text.strip()\n",
    "        try:\n",
    "            dict_fighter[attrs.split(':')[0]]= attrs.split(':')[1].split('n')[-1].strip()\n",
    "        except:\n",
    "            pass\n",
    "    for row in right:\n",
    "        attrs = row.text.strip()\n",
    "        try:\n",
    "            dict_fighter[attrs.split(':')[0]]= attrs.split(':')[1].split('n')[-1].strip()\n",
    "        except:\n",
    "            pass\n",
    "    return dict_fighter"
   ]
  },
  {
   "cell_type": "code",
   "execution_count": 271,
   "metadata": {
    "collapsed": false
   },
   "outputs": [],
   "source": [
    "def addCareerStats(df):\n",
    "    urls = df.url\n",
    "    new_df = []\n",
    "    for i,url in enumerate(urls):\n",
    "        print i\n",
    "        new_df.append(careerStats(url))\n",
    "    return pd.DataFrame(new_df)"
   ]
  },
  {
   "cell_type": "code",
   "execution_count": 2,
   "metadata": {
    "collapsed": true
   },
   "outputs": [],
   "source": [
    "df = pd.read_csv('fighters_over1.csv')"
   ]
  },
  {
   "cell_type": "code",
   "execution_count": 3,
   "metadata": {
    "collapsed": false
   },
   "outputs": [
    {
     "data": {
      "text/plain": [
       "(3022, 11)"
      ]
     },
     "execution_count": 3,
     "metadata": {},
     "output_type": "execute_result"
    }
   ],
   "source": [
    "df.shape"
   ]
  },
  {
   "cell_type": "code",
   "execution_count": 4,
   "metadata": {
    "collapsed": true
   },
   "outputs": [],
   "source": [
    "df = pd.read_csv('complete_fighters.csv')"
   ]
  },
  {
   "cell_type": "code",
   "execution_count": 5,
   "metadata": {
    "collapsed": false
   },
   "outputs": [
    {
     "data": {
      "text/html": [
       "<div>\n",
       "<table border=\"1\" class=\"dataframe\">\n",
       "  <thead>\n",
       "    <tr style=\"text-align: right;\">\n",
       "      <th></th>\n",
       "      <th>draws</th>\n",
       "      <th>first_name</th>\n",
       "      <th>height</th>\n",
       "      <th>last_name</th>\n",
       "      <th>losses</th>\n",
       "      <th>reach</th>\n",
       "      <th>stance</th>\n",
       "      <th>url</th>\n",
       "      <th>weight</th>\n",
       "      <th>wins</th>\n",
       "      <th>fighter_id</th>\n",
       "      <th>SApM</th>\n",
       "      <th>SLpM</th>\n",
       "      <th>Str. Acc.</th>\n",
       "      <th>Str. Def</th>\n",
       "      <th>Sub. Avg.</th>\n",
       "      <th>TD Acc.</th>\n",
       "      <th>TD Avg.</th>\n",
       "      <th>TD Def.</th>\n",
       "    </tr>\n",
       "  </thead>\n",
       "  <tbody>\n",
       "    <tr>\n",
       "      <th>0</th>\n",
       "      <td>0</td>\n",
       "      <td>Tom</td>\n",
       "      <td>--</td>\n",
       "      <td>Aaron</td>\n",
       "      <td>3</td>\n",
       "      <td>--</td>\n",
       "      <td>NaN</td>\n",
       "      <td>93fe7332d16c6ad9</td>\n",
       "      <td>155 lbs.</td>\n",
       "      <td>5</td>\n",
       "      <td>0</td>\n",
       "      <td>0.00</td>\n",
       "      <td>0.00</td>\n",
       "      <td>0%</td>\n",
       "      <td>0%</td>\n",
       "      <td>0.0</td>\n",
       "      <td>0%</td>\n",
       "      <td>0.00</td>\n",
       "      <td>0%</td>\n",
       "    </tr>\n",
       "    <tr>\n",
       "      <th>1</th>\n",
       "      <td>0</td>\n",
       "      <td>Danny</td>\n",
       "      <td>5' 11\"</td>\n",
       "      <td>Abbadi</td>\n",
       "      <td>6</td>\n",
       "      <td>--</td>\n",
       "      <td>Orthodox</td>\n",
       "      <td>15df64c02b6b0fde</td>\n",
       "      <td>155 lbs.</td>\n",
       "      <td>4</td>\n",
       "      <td>1</td>\n",
       "      <td>4.41</td>\n",
       "      <td>3.29</td>\n",
       "      <td>38%</td>\n",
       "      <td>57%</td>\n",
       "      <td>0.0</td>\n",
       "      <td>0%</td>\n",
       "      <td>0.00</td>\n",
       "      <td>77%</td>\n",
       "    </tr>\n",
       "    <tr>\n",
       "      <th>2</th>\n",
       "      <td>0</td>\n",
       "      <td>David</td>\n",
       "      <td>6' 0\"</td>\n",
       "      <td>Abbott</td>\n",
       "      <td>14</td>\n",
       "      <td>--</td>\n",
       "      <td>Switch</td>\n",
       "      <td>b361180739bed4b0</td>\n",
       "      <td>265 lbs.</td>\n",
       "      <td>10</td>\n",
       "      <td>2</td>\n",
       "      <td>3.55</td>\n",
       "      <td>1.35</td>\n",
       "      <td>30%</td>\n",
       "      <td>38%</td>\n",
       "      <td>0.0</td>\n",
       "      <td>33%</td>\n",
       "      <td>1.07</td>\n",
       "      <td>66%</td>\n",
       "    </tr>\n",
       "    <tr>\n",
       "      <th>3</th>\n",
       "      <td>0</td>\n",
       "      <td>Shamil</td>\n",
       "      <td>6' 3\"</td>\n",
       "      <td>Abdurakhimov</td>\n",
       "      <td>4</td>\n",
       "      <td>76.0\"</td>\n",
       "      <td>Orthodox</td>\n",
       "      <td>2f5cbecbbe18bac4</td>\n",
       "      <td>235 lbs.</td>\n",
       "      <td>18</td>\n",
       "      <td>3</td>\n",
       "      <td>2.53</td>\n",
       "      <td>2.53</td>\n",
       "      <td>45%</td>\n",
       "      <td>58%</td>\n",
       "      <td>0.3</td>\n",
       "      <td>22%</td>\n",
       "      <td>1.36</td>\n",
       "      <td>77%</td>\n",
       "    </tr>\n",
       "    <tr>\n",
       "      <th>4</th>\n",
       "      <td>3</td>\n",
       "      <td>Hiroyuki</td>\n",
       "      <td>5' 6\"</td>\n",
       "      <td>Abe</td>\n",
       "      <td>14</td>\n",
       "      <td>--</td>\n",
       "      <td>Orthodox</td>\n",
       "      <td>c0ed7b208197e8de</td>\n",
       "      <td>145 lbs.</td>\n",
       "      <td>8</td>\n",
       "      <td>4</td>\n",
       "      <td>3.11</td>\n",
       "      <td>1.71</td>\n",
       "      <td>36%</td>\n",
       "      <td>63%</td>\n",
       "      <td>0.0</td>\n",
       "      <td>0%</td>\n",
       "      <td>0.00</td>\n",
       "      <td>33%</td>\n",
       "    </tr>\n",
       "  </tbody>\n",
       "</table>\n",
       "</div>"
      ],
      "text/plain": [
       "   draws first_name  height     last_name  losses  reach    stance  \\\n",
       "0      0        Tom      --         Aaron       3     --       NaN   \n",
       "1      0      Danny  5' 11\"        Abbadi       6     --  Orthodox   \n",
       "2      0      David   6' 0\"        Abbott      14     --    Switch   \n",
       "3      0     Shamil   6' 3\"  Abdurakhimov       4  76.0\"  Orthodox   \n",
       "4      3   Hiroyuki   5' 6\"           Abe      14     --  Orthodox   \n",
       "\n",
       "                url    weight  wins  fighter_id  SApM  SLpM Str. Acc.  \\\n",
       "0  93fe7332d16c6ad9  155 lbs.     5           0  0.00  0.00        0%   \n",
       "1  15df64c02b6b0fde  155 lbs.     4           1  4.41  3.29       38%   \n",
       "2  b361180739bed4b0  265 lbs.    10           2  3.55  1.35       30%   \n",
       "3  2f5cbecbbe18bac4  235 lbs.    18           3  2.53  2.53       45%   \n",
       "4  c0ed7b208197e8de  145 lbs.     8           4  3.11  1.71       36%   \n",
       "\n",
       "  Str. Def  Sub. Avg. TD Acc.  TD Avg. TD Def.  \n",
       "0       0%        0.0      0%     0.00      0%  \n",
       "1      57%        0.0      0%     0.00     77%  \n",
       "2      38%        0.0     33%     1.07     66%  \n",
       "3      58%        0.3     22%     1.36     77%  \n",
       "4      63%        0.0      0%     0.00     33%  "
      ]
     },
     "execution_count": 5,
     "metadata": {},
     "output_type": "execute_result"
    }
   ],
   "source": [
    "df.head()"
   ]
  },
  {
   "cell_type": "code",
   "execution_count": null,
   "metadata": {
    "collapsed": true
   },
   "outputs": [],
   "source": [
    "#for each fighter, add a row for all their unique fights\n",
    "#make sure if a fight is already there that you don't add again\n",
    "fights = []\n"
   ]
  }
 ],
 "metadata": {
  "kernelspec": {
   "display_name": "Python 2",
   "language": "python",
   "name": "python2"
  },
  "language_info": {
   "codemirror_mode": {
    "name": "ipython",
    "version": 2
   },
   "file_extension": ".py",
   "mimetype": "text/x-python",
   "name": "python",
   "nbconvert_exporter": "python",
   "pygments_lexer": "ipython2",
   "version": "2.7.13"
  }
 },
 "nbformat": 4,
 "nbformat_minor": 2
}
