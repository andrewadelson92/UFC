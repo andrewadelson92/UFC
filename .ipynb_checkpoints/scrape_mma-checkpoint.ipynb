{
 "cells": [
  {
   "cell_type": "code",
   "execution_count": 102,
   "metadata": {
    "collapsed": true
   },
   "outputs": [],
   "source": [
    "import pandas as pd\n",
    "import numpy as np\n",
    "import requests\n",
    "import string\n",
    "from bs4 import BeautifulSoup"
   ]
  },
  {
   "cell_type": "code",
   "execution_count": 3,
   "metadata": {
    "collapsed": true
   },
   "outputs": [],
   "source": [
    "url = 'http://www.fightmetric.com/statistics/fighters?char=a&page=1'"
   ]
  },
  {
   "cell_type": "code",
   "execution_count": 60,
   "metadata": {
    "collapsed": true
   },
   "outputs": [],
   "source": [
    "r = requests.get(url)\n",
    "html = r.content"
   ]
  },
  {
   "cell_type": "code",
   "execution_count": 10,
   "metadata": {
    "collapsed": false
   },
   "outputs": [],
   "source": [
    "bs = BeautifulSoup(html, 'lxml')"
   ]
  },
  {
   "cell_type": "code",
   "execution_count": 19,
   "metadata": {
    "collapsed": false
   },
   "outputs": [],
   "source": [
    "rows = bs.find('table').find('tbody').find_all('tr')\n"
   ]
  },
  {
   "cell_type": "code",
   "execution_count": 90,
   "metadata": {
    "collapsed": false
   },
   "outputs": [],
   "source": [
    "def scrapePage(url):\n",
    "    fighters = []\n",
    "    response = requests.get(url)\n",
    "    soup = BeautifulSoup(response.content, 'lxml')\n",
    "    rows = bs.find('table').find('tbody').find_all('tr')\n",
    "    for row in rows[1:]:\n",
    "        #iterate through each fighter\n",
    "        attrs= row.find_all('td')\n",
    "        wins = int(attrs[7].text.strip())\n",
    "        losses =int(attrs[8].text.strip())\n",
    "        draws = int(attrs[9].text.strip())\n",
    "        if wins+losses+draws>=15:\n",
    "            play_dict = {}\n",
    "            play_dict['wins'] = wins\n",
    "            play_dict['losses'] = losses\n",
    "            play_dict['draws'] = draws\n",
    "            play_dict['first_name'] = attrs[0].text.strip()\n",
    "            play_dict['last_name'] = attrs[1].text.strip()\n",
    "            play_dict['height'] = attrs[3].text.strip()\n",
    "            play_dict['weight'] = attrs[4].text.strip()\n",
    "            play_dict['reach'] = attrs[5].text.strip()\n",
    "            play_dict['stance'] = attrs[6].text.strip()\n",
    "            fighters.append(play_dict)\n",
    "        else:\n",
    "            pass\n",
    "    return fighters\n",
    "    "
   ]
  },
  {
   "cell_type": "code",
   "execution_count": 108,
   "metadata": {
    "collapsed": false
   },
   "outputs": [],
   "source": [
    "def scrapeAll():\n",
    "    letters = list(string.ascii_lowercase)\n",
    "    for i, letter in enumerate(letters):\n",
    "        print letter\n",
    "        url = 'http://www.fightmetric.com/statistics/fighters?char={}&page=all'.format(letter)\n",
    "        fighters = scrapePage(url)\n",
    "    return pd.DataFrame(fighters)"
   ]
  },
  {
   "cell_type": "code",
   "execution_count": 109,
   "metadata": {
    "collapsed": false
   },
   "outputs": [
    {
     "name": "stdout",
     "output_type": "stream",
     "text": [
      "a\n",
      "http://www.fightmetric.com/statistics/fighters?char=a&page=all\n",
      "b\n",
      "http://www.fightmetric.com/statistics/fighters?char=b&page=all\n",
      "c\n",
      "http://www.fightmetric.com/statistics/fighters?char=c&page=all\n",
      "d\n",
      "http://www.fightmetric.com/statistics/fighters?char=d&page=all\n",
      "e\n",
      "http://www.fightmetric.com/statistics/fighters?char=e&page=all\n",
      "f\n",
      "http://www.fightmetric.com/statistics/fighters?char=f&page=all\n",
      "g\n",
      "http://www.fightmetric.com/statistics/fighters?char=g&page=all\n",
      "h\n",
      "http://www.fightmetric.com/statistics/fighters?char=h&page=all\n",
      "i\n",
      "http://www.fightmetric.com/statistics/fighters?char=i&page=all\n",
      "j\n",
      "http://www.fightmetric.com/statistics/fighters?char=j&page=all\n",
      "k\n",
      "http://www.fightmetric.com/statistics/fighters?char=k&page=all\n",
      "l\n",
      "http://www.fightmetric.com/statistics/fighters?char=l&page=all\n",
      "m\n",
      "http://www.fightmetric.com/statistics/fighters?char=m&page=all\n",
      "n\n",
      "http://www.fightmetric.com/statistics/fighters?char=n&page=all\n",
      "o\n",
      "http://www.fightmetric.com/statistics/fighters?char=o&page=all\n",
      "p\n",
      "http://www.fightmetric.com/statistics/fighters?char=p&page=all\n",
      "q\n",
      "http://www.fightmetric.com/statistics/fighters?char=q&page=all\n",
      "r\n",
      "http://www.fightmetric.com/statistics/fighters?char=r&page=all\n",
      "s\n",
      "http://www.fightmetric.com/statistics/fighters?char=s&page=all\n",
      "t\n",
      "http://www.fightmetric.com/statistics/fighters?char=t&page=all\n",
      "u\n",
      "http://www.fightmetric.com/statistics/fighters?char=u&page=all\n",
      "v\n",
      "http://www.fightmetric.com/statistics/fighters?char=v&page=all\n",
      "w\n",
      "http://www.fightmetric.com/statistics/fighters?char=w&page=all\n",
      "x\n",
      "http://www.fightmetric.com/statistics/fighters?char=x&page=all\n",
      "y\n",
      "http://www.fightmetric.com/statistics/fighters?char=y&page=all\n",
      "z\n",
      "http://www.fightmetric.com/statistics/fighters?char=z&page=all\n"
     ]
    }
   ],
   "source": [
    "df = scrapeAll()"
   ]
  },
  {
   "cell_type": "code",
   "execution_count": 112,
   "metadata": {
    "collapsed": false
   },
   "outputs": [],
   "source": [
    "s = [1]"
   ]
  },
  {
   "cell_type": "code",
   "execution_count": 113,
   "metadata": {
    "collapsed": false
   },
   "outputs": [],
   "source": [
    "s+=[2]"
   ]
  },
  {
   "cell_type": "code",
   "execution_count": null,
   "metadata": {
    "collapsed": true
   },
   "outputs": [],
   "source": []
  }
 ],
 "metadata": {
  "kernelspec": {
   "display_name": "Python 2",
   "language": "python",
   "name": "python2"
  },
  "language_info": {
   "codemirror_mode": {
    "name": "ipython",
    "version": 2
   },
   "file_extension": ".py",
   "mimetype": "text/x-python",
   "name": "python",
   "nbconvert_exporter": "python",
   "pygments_lexer": "ipython2",
   "version": "2.7.13"
  }
 },
 "nbformat": 4,
 "nbformat_minor": 2
}
