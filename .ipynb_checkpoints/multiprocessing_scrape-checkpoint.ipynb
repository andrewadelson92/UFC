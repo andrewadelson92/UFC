{
 "cells": [
  {
   "cell_type": "code",
   "execution_count": 1,
   "metadata": {},
   "outputs": [],
   "source": [
    "import pandas as pd\n",
    "import numpy as np\n",
    "import requests\n",
    "import string\n",
    "from bs4 import BeautifulSoup\n"
   ]
  },
  {
   "cell_type": "code",
   "execution_count": 290,
   "metadata": {},
   "outputs": [],
   "source": [
    "pd.set_option('max_columns', 999)"
   ]
  },
  {
   "cell_type": "code",
   "execution_count": 6,
   "metadata": {},
   "outputs": [],
   "source": [
    "#import list of unique fight urls\n",
    "fight_urls = list(pd.read_csv('fight_urls.csv')['fight_url'])"
   ]
  },
  {
   "cell_type": "code",
   "execution_count": 539,
   "metadata": {},
   "outputs": [],
   "source": [
    "def test():\n",
    "    url = fight_urls[0]\n",
    "    fight_url = 'http://www.fightmetric.com/fight-details/{}'.format(url)\n",
    "    response = requests.get(fight_url)\n",
    "    soup = BeautifulSoup(response.content, 'lxml')\n",
    "    sig_stats=soup.find_all('tbody', {'class':'b-fight-details__table-body'})\n",
    "    return sig_stats"
   ]
  },
  {
   "cell_type": "code",
   "execution_count": 544,
   "metadata": {},
   "outputs": [
    {
     "data": {
      "text/plain": [
       "'b33e6a1d4911cf87'"
      ]
     },
     "execution_count": 544,
     "metadata": {},
     "output_type": "execute_result"
    }
   ],
   "source": [
    "fight_urls[0]"
   ]
  },
  {
   "cell_type": "code",
   "execution_count": 525,
   "metadata": {},
   "outputs": [],
   "source": [
    "def resultStats(result):\n",
    "    fight_dict = {}\n",
    "    fighters = result.find_all('div', {'class': 'b-fight-details__person'})\n",
    "    try:\n",
    "        fight_dict['fighter_a'] = fighters[0].find('a')['href'].split('/')[-1]\n",
    "    except:\n",
    "        name = fighters[0].find('span').text.strip()\n",
    "        fight_dict['fighter_a'] = name.split(' ')[0].lower() + '_' + name.split(' ')[1].lower()\n",
    "    try:\n",
    "        fight_dict['fighter_b'] = fighters[1].find('a')['href'].split('/')[-1]\n",
    "    except:\n",
    "        name = fighters[1].find('span').text.strip()\n",
    "        fight_dict['fighter_b'] = name.split(' ')[0].lower() + '_' + name.split(' ')[1].lower()\n",
    "    fight_dict['fighter_a_result'] = fighters[0].find('i').text.strip()\n",
    "    fight_dict['fighter_b_result'] = fighters[1].find('i').text.strip()\n",
    "    return fight_dict"
   ]
  },
  {
   "cell_type": "code",
   "execution_count": 586,
   "metadata": {},
   "outputs": [],
   "source": [
    "def summaryStats(summary, fight_dict):\n",
    "    fight_dict['weight_class'] = summary.find('i').text.strip()\n",
    "    elements = summary.find_all('i')[3:]\n",
    "    fight_dict['method'] = elements[0].text.strip()\n",
    "    fight_dict['round'] = elements[1].text.strip()[-1]\n",
    "    fight_dict['time'] = elements[3].text.strip().split(' ')[-1]\n",
    "    fight_dict['num_rounds'] = elements[5].text.split('Rnd')[0][-2]\n",
    "    fight_dict['referee'] = elements[7].text.split('\\n')[-3].strip()\n",
    "    try:\n",
    "        fight_dict['score1'] = elements[11].text.split('\\n')[-2].strip()\n",
    "        fight_dict['score2'] = elements[12].text.split('\\n')[-2].strip()\n",
    "        fight_dict['score3'] = elements[13].text.split('\\n')[-2].strip()\n",
    "    except:\n",
    "        pass\n",
    "    return fight_dict"
   ]
  },
  {
   "cell_type": "code",
   "execution_count": 387,
   "metadata": {},
   "outputs": [],
   "source": [
    "def entireFightStats(soup, fight_dict):\n",
    "    overall_stats = soup.find_all('section', {'class':'b-fight-details__section js-fight-section'})[1].find_all('tr')[1].find_all('td')\n",
    "    top = 'fighter_a'\n",
    "    bottom = 'fighter_b'\n",
    "    top_ind = 2\n",
    "    bottom_ind = 5\n",
    "    fight_dict['total' + '_' + top + '_'+ 'kd'] = overall_stats[1].text.split('\\n')[top_ind].strip()\n",
    "    fight_dict['total' + '_' + bottom + '_'+ 'kd'] = overall_stats[1].text.split('\\n')[bottom_ind].strip()\n",
    "    fight_dict['total' + '_' + top + '_'+ 'sub_att'] = overall_stats[7].text.split('\\n')[top_ind].strip()\n",
    "    fight_dict['total' + '_' + bottom + '_'+ 'sub_att'] = overall_stats[7].text.split('\\n')[bottom_ind].strip()\n",
    "    fight_dict['total' + '_' + top + '_'+ 'passes'] = overall_stats[8].text.split('\\n')[top_ind].strip()\n",
    "    fight_dict['total' + '_' + bottom + '_'+ 'passes'] = overall_stats[8].text.split('\\n')[bottom_ind].strip()\n",
    "    fight_dict['total' + '_' + top + '_'+ 'reverses'] = overall_stats[9].text.split('\\n')[top_ind].strip()\n",
    "    fight_dict['total' + '_' + bottom + '_'+ 'reverses'] = overall_stats[9].text.split('\\n')[bottom_ind].strip()\n",
    "    fight_dict['total' + '_' + top + '_'+ 'ssl'] = overall_stats[2].text.split('\\n')[top_ind].strip().split(' ')[0]\n",
    "    fight_dict['total' + '_' + top + '_'+ 'ssa'] = overall_stats[2].text.split('\\n')[top_ind].strip().split(' ')[-1]\n",
    "    fight_dict['total' + '_' + bottom + '_'+ 'ssl']  = overall_stats[2].text.split('\\n')[bottom_ind].strip().split(' ')[0]\n",
    "    fight_dict['total' + '_' + bottom + '_'+ 'ssa']  = overall_stats[2].text.split('\\n')[bottom_ind].strip().split(' ')[-1]\n",
    "    fight_dict['total' + '_' + top + '_'+ 'tsl'] = overall_stats[4].text.split('\\n')[top_ind].strip().split(' ')[0]\n",
    "    fight_dict['total' + '_' + top + '_'+ 'tsa'] = overall_stats[4].text.split('\\n')[top_ind].strip().split(' ')[-1]\n",
    "    fight_dict['total' + '_' + bottom + '_'+ 'tsl']  = overall_stats[4].text.split('\\n')[bottom_ind].strip().split(' ')[0]\n",
    "    fight_dict['total' + '_' + bottom + '_'+ 'tsa']  = overall_stats[4].text.split('\\n')[bottom_ind].strip().split(' ')[-1]\n",
    "    fight_dict['total' + '_' + top + '_'+ 'tdl'] = overall_stats[5].text.split('\\n')[top_ind].strip().split(' ')[0]\n",
    "    fight_dict['total' + '_' + top + '_'+ 'tda'] = overall_stats[5].text.split('\\n')[top_ind].strip().split(' ')[-1]\n",
    "    fight_dict['total' + '_' + bottom + '_'+ 'tdl']  = overall_stats[5].text.split('\\n')[bottom_ind].strip().split(' ')[0]\n",
    "    fight_dict['total' + '_' + bottom + '_'+ 'tda']  = overall_stats[5].text.split('\\n')[bottom_ind].strip().split(' ')[-1]\n",
    "    return fight_dict"
   ]
  },
  {
   "cell_type": "code",
   "execution_count": 549,
   "metadata": {},
   "outputs": [],
   "source": [
    "def entireSigStats(soup, fight_dict):\n",
    "    sig_stats = soup.find_all('tbody', {'class':'b-fight-details__table-body'})[2].find('tr').find_all('td')\n",
    "    top = 'fighter_a'\n",
    "    bottom = 'fighter_b'\n",
    "    top_ind = 2\n",
    "    bottom_ind = 5\n",
    "    fight_dict['total' + '_' + top + '_'+ 'hsl'] = sig_stats[3].text.split('\\n')[top_ind].strip().split(' ')[0]\n",
    "    fight_dict['total' + '_' + top + '_'+ 'hsa'] = sig_stats[3].text.split('\\n')[top_ind].strip().split(' ')[-1]\n",
    "    fight_dict['total' + '_' + bottom + '_'+ 'hsl'] = sig_stats[3].text.split('\\n')[bottom_ind].strip().split(' ')[0]\n",
    "    fight_dict['total' + '_' + bottom + '_'+ 'hsa'] = sig_stats[3].text.split('\\n')[bottom_ind].strip().split(' ')[-1]\n",
    "    fight_dict['total' + '_' + top + '_'+ 'bsl'] = sig_stats[4].text.split('\\n')[top_ind].strip().split(' ')[0]\n",
    "    fight_dict['total' + '_' + top + '_'+ 'bsa'] = sig_stats[4].text.split('\\n')[top_ind].strip().split(' ')[-1]\n",
    "    fight_dict['total' + '_' + bottom + '_'+ 'bsl'] = sig_stats[4].text.split('\\n')[bottom_ind].strip().split(' ')[0]\n",
    "    fight_dict['total' + '_' + bottom + '_'+ 'bsa'] = sig_stats[4].text.split('\\n')[bottom_ind].strip().split(' ')[-1]\n",
    "    fight_dict['total' + '_' + top + '_'+ 'lsl'] = sig_stats[5].text.split('\\n')[top_ind].strip().split(' ')[0]\n",
    "    fight_dict['total' + '_' + top + '_'+ 'lsa'] = sig_stats[5].text.split('\\n')[top_ind].strip().split(' ')[-1]\n",
    "    fight_dict['total' + '_' + bottom + '_'+ 'lsl'] = sig_stats[5].text.split('\\n')[bottom_ind].strip().split(' ')[0]\n",
    "    fight_dict['total' + '_' + bottom + '_'+ 'lsa'] = sig_stats[5].text.split('\\n')[bottom_ind].strip().split(' ')[-1]\n",
    "    fight_dict['total' + '_' + top + '_'+ 'dsl'] = sig_stats[6].text.split('\\n')[top_ind].strip().split(' ')[0]\n",
    "    fight_dict['total' + '_' + top + '_'+ 'dsa'] = sig_stats[6].text.split('\\n')[top_ind].strip().split(' ')[-1]\n",
    "    fight_dict['total' + '_' + bottom + '_'+ 'dsl'] = sig_stats[6].text.split('\\n')[bottom_ind].strip().split(' ')[0]\n",
    "    fight_dict['total' + '_' + bottom + '_'+ 'dsa'] = sig_stats[6].text.split('\\n')[bottom_ind].strip().split(' ')[-1]\n",
    "    fight_dict['total' + '_' + top + '_'+ 'csl'] = sig_stats[7].text.split('\\n')[top_ind].strip().split(' ')[0]\n",
    "    fight_dict['total' + '_' + top + '_'+ 'csa'] = sig_stats[7].text.split('\\n')[top_ind].strip().split(' ')[-1]\n",
    "    fight_dict['total' + '_' + bottom + '_'+ 'csl'] = sig_stats[7].text.split('\\n')[bottom_ind].strip().split(' ')[0]\n",
    "    fight_dict['total' + '_' + bottom + '_'+ 'csa'] = sig_stats[7].text.split('\\n')[bottom_ind].strip().split(' ')[-1]\n",
    "    fight_dict['total' + '_' + top + '_'+ 'gsl'] = sig_stats[8].text.split('\\n')[top_ind].strip().split(' ')[0]\n",
    "    fight_dict['total' + '_' + top + '_'+ 'gsa'] = sig_stats[8].text.split('\\n')[top_ind].strip().split(' ')[-1]\n",
    "    fight_dict['total' + '_' + bottom + '_'+ 'gsl'] = sig_stats[8].text.split('\\n')[bottom_ind].strip().split(' ')[0]\n",
    "    fight_dict['total' + '_' + bottom + '_'+ 'gsa'] = sig_stats[8].text.split('\\n')[bottom_ind].strip().split(' ')[-1]\n",
    "    return fight_dict"
   ]
  },
  {
   "cell_type": "code",
   "execution_count": 510,
   "metadata": {},
   "outputs": [],
   "source": []
  },
  {
   "cell_type": "code",
   "execution_count": 537,
   "metadata": {},
   "outputs": [],
   "source": [
    "def totalStats(totals, fight_dict):\n",
    "    top = 'fighter_a'\n",
    "    bottom = 'fighter_b'\n",
    "    rounds = totals.find('tbody').find_all('tr')\n",
    "    top_ind = 2\n",
    "    bottom_ind = 5\n",
    "    for i, Round in enumerate(rounds):\n",
    "        r = str(i + 1)\n",
    "        round_stats = Round.find_all('td')\n",
    "        fight_dict[r+ '_'+ top + '_'+ 'kd'] = round_stats[1].text.split('\\n')[top_ind].strip()\n",
    "        fight_dict[r+ '_'+ bottom + '_'+ 'kd'] = round_stats[1].text.split('\\n')[bottom_ind].strip()\n",
    "        fight_dict[r+ '_'+ top + '_'+ 'ssl'] = round_stats[2].text.split('\\n')[top_ind].strip().split(' ')[0]\n",
    "        fight_dict[r+ '_'+ top + '_'+ 'ssa'] = round_stats[2].text.split('\\n')[top_ind].strip().split(' ')[-1]\n",
    "        fight_dict[r+ '_'+ bottom + '_'+ 'ssl'] = round_stats[2].text.split('\\n')[bottom_ind].strip().split(' ')[0]\n",
    "        fight_dict[r+ '_'+ bottom + '_'+ 'ssa'] = round_stats[2].text.split('\\n')[bottom_ind].strip().split(' ')[-1]\n",
    "        fight_dict[r+ '_'+ top + '_'+ 'tsl'] = round_stats[4].text.split('\\n')[top_ind].strip().split(' ')[0]\n",
    "        fight_dict[r+ '_'+ top + '_'+ 'tsa'] = round_stats[4].text.split('\\n')[top_ind].strip().split(' ')[-1]\n",
    "        fight_dict[r+ '_'+ bottom + '_'+ 'tsl'] = round_stats[4].text.split('\\n')[bottom_ind].strip().split(' ')[0]\n",
    "        fight_dict[r+ '_'+ bottom + '_'+ 'tsa'] = round_stats[4].text.split('\\n')[bottom_ind].strip().split(' ')[-1]\n",
    "        fight_dict[r+ '_'+ top + '_'+ 'tdl'] = round_stats[5].text.split('\\n')[top_ind].strip().split(' ')[0]\n",
    "        fight_dict[r+ '_'+ top + '_'+ 'tda'] = round_stats[5].text.split('\\n')[top_ind].strip().split(' ')[-1]\n",
    "        fight_dict[r+ '_'+ bottom + '_'+ 'tdl'] = round_stats[5].text.split('\\n')[bottom_ind].strip().split(' ')[0]\n",
    "        fight_dict[r+ '_'+ bottom + '_'+ 'tda'] = round_stats[5].text.split('\\n')[bottom_ind].strip().split(' ')[-1]\n",
    "        fight_dict[r+ '_'+ top + '_'+ 'sub_att'] = round_stats[7].text.split('\\n')[top_ind].strip()\n",
    "        fight_dict[r+ '_'+ bottom + '_'+ 'sub_att'] = round_stats[7].text.split('\\n')[bottom_ind].strip()\n",
    "        fight_dict[r+ '_'+ top + '_'+ 'passes'] = round_stats[8].text.split('\\n')[top_ind].strip()\n",
    "        fight_dict[r+ '_'+ bottom + '_'+ 'passes'] = round_stats[8].text.split('\\n')[bottom_ind].strip()\n",
    "        fight_dict[r+ '_'+ top + '_'+ 'reverses'] = round_stats[9].text.split('\\n')[top_ind].strip()\n",
    "        fight_dict[r+ '_'+ bottom + '_'+ 'reverses'] = round_stats[9].text.split('\\n')[bottom_ind].strip()\n",
    "    return fight_dict"
   ]
  },
  {
   "cell_type": "code",
   "execution_count": 536,
   "metadata": {},
   "outputs": [],
   "source": [
    "def significantStrikes(sig_strikes, fight_dict):\n",
    "    top = 'fighter_a'\n",
    "    bottom = 'fighter_b'\n",
    "    rounds = sig_strikes.find('tbody').find_all('tr')\n",
    "    top_ind = 2\n",
    "    bottom_ind = 5\n",
    "    for i, Round in enumerate(rounds):\n",
    "        r = str(i+1)\n",
    "        round_stats = Round.find_all('td')\n",
    "        fight_dict[r + '_' + top + '_' + 'hsl'] = round_stats[3].text.split('\\n')[top_ind].strip().split(' ')[0]\n",
    "        fight_dict[r + '_' + top + '_' + 'hsa'] = round_stats[3].text.split('\\n')[top_ind].strip().split(' ')[-1]\n",
    "        fight_dict[r + '_' + bottom + '_' + 'hsl'] = round_stats[3].text.split('\\n')[bottom_ind].strip().split(' ')[0]\n",
    "        fight_dict[r + '_' + bottom + '_' + 'hsa'] = round_stats[3].text.split('\\n')[bottom_ind].strip().split(' ')[-1]\n",
    "        fight_dict[r + '_' + top + '_' + 'bsl'] = round_stats[4].text.split('\\n')[top_ind].strip().split(' ')[0]\n",
    "        fight_dict[r + '_' + top + '_' + 'bsa'] = round_stats[4].text.split('\\n')[top_ind].strip().split(' ')[-1]\n",
    "        fight_dict[r + '_' + bottom + '_' + 'bsl'] = round_stats[4].text.split('\\n')[bottom_ind].strip().split(' ')[0]\n",
    "        fight_dict[r + '_' + bottom + '_' + 'bsa'] = round_stats[4].text.split('\\n')[bottom_ind].strip().split(' ')[-1]\n",
    "        fight_dict[r + '_' + top + '_' + 'lsl'] = round_stats[5].text.split('\\n')[top_ind].strip().split(' ')[0]\n",
    "        fight_dict[r + '_' + top + '_' + 'lsa'] = round_stats[5].text.split('\\n')[top_ind].strip().split(' ')[-1]\n",
    "        fight_dict[r + '_' + bottom + '_' + 'lsl'] = round_stats[5].text.split('\\n')[bottom_ind].strip().split(' ')[0]\n",
    "        fight_dict[r + '_' + bottom + '_' + 'lsa'] = round_stats[5].text.split('\\n')[bottom_ind].strip().split(' ')[-1]\n",
    "        fight_dict[r + '_' + top + '_' + 'dsl'] = round_stats[6].text.split('\\n')[top_ind].strip().split(' ')[0]\n",
    "        fight_dict[r + '_' + top + '_' + 'dsa'] = round_stats[6].text.split('\\n')[top_ind].strip().split(' ')[-1]\n",
    "        fight_dict[r + '_' + bottom + '_' + 'dsl'] = round_stats[6].text.split('\\n')[bottom_ind].strip().split(' ')[0]\n",
    "        fight_dict[r + '_' + bottom + '_' + 'dsa'] = round_stats[6].text.split('\\n')[bottom_ind].strip().split(' ')[-1]\n",
    "        fight_dict[r + '_' + top + '_' + 'csl'] = round_stats[7].text.split('\\n')[top_ind].strip().split(' ')[0]\n",
    "        fight_dict[r + '_' + top + '_' + 'csa'] = round_stats[7].text.split('\\n')[top_ind].strip().split(' ')[-1]\n",
    "        fight_dict[r + '_' + bottom + '_' + 'csl'] = round_stats[7].text.split('\\n')[bottom_ind].strip().split(' ')[0]\n",
    "        fight_dict[r + '_' + bottom + '_' + 'csa'] = round_stats[7].text.split('\\n')[bottom_ind].strip().split(' ')[-1]\n",
    "        fight_dict[r + '_' + top + '_' + 'gsl'] = round_stats[8].text.split('\\n')[top_ind].strip().split(' ')[0]\n",
    "        fight_dict[r + '_' + top + '_' + 'gsa'] = round_stats[8].text.split('\\n')[top_ind].strip().split(' ')[-1]\n",
    "        fight_dict[r + '_' + bottom + '_' + 'gsl'] = round_stats[8].text.split('\\n')[bottom_ind].strip().split(' ')[0]\n",
    "        fight_dict[r + '_' + bottom + '_' + 'gsa'] = round_stats[8].text.split('\\n')[bottom_ind].strip().split(' ')[-1]\n",
    "    return fight_dict\n",
    "\n",
    "        "
   ]
  },
  {
   "cell_type": "code",
   "execution_count": 658,
   "metadata": {},
   "outputs": [],
   "source": [
    "def Driver(url):\n",
    "    #takes in a fight url and returns a dictionary of ALL the stats from the fight.\n",
    "    #this includes round by round stats as well as overall totals\n",
    "    fight_url = 'http://www.fightmetric.com/fight-details/{}'.format(url)\n",
    "    response = requests.get(fight_url)\n",
    "    soup = BeautifulSoup(response.content, 'lxml')\n",
    "    result = soup.find('div', {'class': 'b-fight-details__persons clearfix'})\n",
    "    fight_dict = resultStats(result)\n",
    "    summary = soup.find('div', {'class':'b-fight-details__fight'})\n",
    "    fight_dict = summaryStats(summary, fight_dict)\n",
    "    fight_dict['date'] = dict_dates[url]\n",
    "    try:\n",
    "        fight_dict = entireFightStats(soup, fight_dict)\n",
    "        fight_dict = entireSigStats(soup, fight_dict)\n",
    "        totals, sig_strikes = soup.find_all('table', {'class': 'b-fight-details__table js-fight-table'})\n",
    "        fight_dict = totalStats(totals, fight_dict)\n",
    "        fight_dict = significantStrikes(sig_strikes, fight_dict)\n",
    "    except:\n",
    "        pass\n",
    "    \n",
    "    return fight_dict"
   ]
  },
  {
   "cell_type": "markdown",
   "metadata": {},
   "source": [
    "#check to see if the script is written correctly\n",
    "df = pd.DataFrame([d])\n",
    "\n",
    "cols_a = []\n",
    "cols_b = []\n",
    "for key in d.keys():\n",
    "    if 'fighter_a' in key:\n",
    "        cols_a.append(key)\n",
    "    elif 'fighter_b' in key:\n",
    "        cols_b.append(key)\n",
    "\n",
    "unifiedA = {x: x.replace('_a_', '_') for x in cols_a }\n",
    "\n",
    "unifiedB = {x: x.replace('_b_', '_') for x in cols_b }\n",
    "\n",
    "A = df[[x for x in df.columns if 'fighter_a' in x]]\n",
    "\n",
    "B = df[[x for x in df.columns if 'fighter_b' in x]]\n",
    "\n",
    "A.rename_axis(unifiedA, axis=1, inplace=True)\n",
    "\n",
    "B.rename_axis(unifiedB, axis=1, inplace=True)\n",
    "\n",
    "data = pd.concat([A,B])"
   ]
  },
  {
   "cell_type": "code",
   "execution_count": 415,
   "metadata": {},
   "outputs": [],
   "source": [
    "df = pd.read_csv('complete_fighters.csv')"
   ]
  },
  {
   "cell_type": "code",
   "execution_count": 420,
   "metadata": {},
   "outputs": [],
   "source": [
    "fighter_urls = df.url.unique()"
   ]
  },
  {
   "cell_type": "code",
   "execution_count": 421,
   "metadata": {},
   "outputs": [],
   "source": [
    "dict_dates = {}\n"
   ]
  },
  {
   "cell_type": "markdown",
   "metadata": {},
   "source": [
    "#add date for each fight\n",
    "for i,url in enumerate(fighter_urls):\n",
    "    if i%25==0:\n",
    "        print i\n",
    "    fighter_url = 'http://www.fightmetric.com/fighter-details/{}'.format(url)\n",
    "    response = requests.get(fighter_url)\n",
    "    soup = BeautifulSoup(response.content, 'lxml')\n",
    "    fighters_fights = soup.find('tbody', {'class': 'b-fight-details__table-body'}).find_all('tr')[1:]\n",
    "    for fight in fighters_fights:\n",
    "        try:\n",
    "            fight_url = str(fight).split(\"doNav('\")[1].split(\"'\")[0].split('/')[-1]\n",
    "            date = fight.find_all('td')[6].text.split('\\n')[-3].strip()\n",
    "            if fight_url in dict_dates:\n",
    "                pass\n",
    "            else:\n",
    "                dict_dates[fight_url] = date\n",
    "        except:\n",
    "            pass\n"
   ]
  },
  {
   "cell_type": "code",
   "execution_count": 444,
   "metadata": {},
   "outputs": [],
   "source": [
    "url_df = pd.read_csv('fight_urls.csv')"
   ]
  },
  {
   "cell_type": "code",
   "execution_count": 594,
   "metadata": {},
   "outputs": [],
   "source": [
    "url_df[['fight_url']].to_csv('only_urls.csv', index=False)"
   ]
  },
  {
   "cell_type": "code",
   "execution_count": 450,
   "metadata": {},
   "outputs": [],
   "source": [
    "url_matrix = url_df.as_matrix()"
   ]
  },
  {
   "cell_type": "code",
   "execution_count": 561,
   "metadata": {},
   "outputs": [],
   "source": [
    "fight_rows = []"
   ]
  },
  {
   "cell_type": "code",
   "execution_count": 573,
   "metadata": {},
   "outputs": [],
   "source": [
    "#building matrix without multi processing\n",
    "def timeA():\n",
    "    for i,row in enumerate(url_matrix[0:10]):\n",
    "        Driver(row[0])\n",
    "    "
   ]
  },
  {
   "cell_type": "code",
   "execution_count": 576,
   "metadata": {},
   "outputs": [],
   "source": [
    "#building matrix without multi processing\n",
    "def timeB():\n",
    "    for i,row in enumerate(url_matrix[50:60]):\n",
    "        Driver(row[0])\n",
    "    "
   ]
  },
  {
   "cell_type": "code",
   "execution_count": 562,
   "metadata": {},
   "outputs": [],
   "source": [
    "#Below is where I experiment with multi-threading"
   ]
  },
  {
   "cell_type": "code",
   "execution_count": 634,
   "metadata": {},
   "outputs": [],
   "source": [
    "import csv\n",
    "import threading\n",
    "import timeit\n",
    "from multiprocessing import Pool as P # This is a thread-based Pool\n",
    "from multiprocessing import cpu_count"
   ]
  },
  {
   "cell_type": "code",
   "execution_count": 575,
   "metadata": {},
   "outputs": [
    {
     "data": {
      "text/plain": [
       "40.43817400932312"
      ]
     },
     "execution_count": 575,
     "metadata": {},
     "output_type": "execute_result"
    }
   ],
   "source": [
    "timeit.timeit(timeA,number = 1)"
   ]
  },
  {
   "cell_type": "code",
   "execution_count": 577,
   "metadata": {},
   "outputs": [
    {
     "data": {
      "text/plain": [
       "44.86422300338745"
      ]
     },
     "execution_count": 577,
     "metadata": {},
     "output_type": "execute_result"
    }
   ],
   "source": [
    "timeit.timeit(timeB,number = 1)"
   ]
  },
  {
   "cell_type": "code",
   "execution_count": 579,
   "metadata": {},
   "outputs": [],
   "source": [
    "# on average each fight takes 4.2 seconds to process\n"
   ]
  },
  {
   "cell_type": "code",
   "execution_count": 591,
   "metadata": {},
   "outputs": [
    {
     "data": {
      "text/plain": [
       "{'date': u'Dec. 04, 2010',\n",
       " 'fighter_a': u'tom_aaron',\n",
       " 'fighter_a_result': u'L',\n",
       " 'fighter_b': u'matt_ricehouse',\n",
       " 'fighter_b_result': u'W',\n",
       " 'method': u'Decision - Unanimous',\n",
       " 'num_rounds': u'3',\n",
       " 'referee': u'',\n",
       " 'round': u'3',\n",
       " 'score1': u'28 - 29.',\n",
       " 'score2': u'28 - 29.',\n",
       " 'score3': u'27 - 30.',\n",
       " 'time': u'5:00',\n",
       " 'weight_class': u'Lightweight Bout'}"
      ]
     },
     "execution_count": 591,
     "metadata": {},
     "output_type": "execute_result"
    }
   ],
   "source": [
    "Driver('9be14b958737f074')"
   ]
  },
  {
   "cell_type": "code",
   "execution_count": 655,
   "metadata": {},
   "outputs": [],
   "source": [
    "url_list = [list(x)[0] for x in url_df[['fight_url']].iloc[:55].values]"
   ]
  },
  {
   "cell_type": "code",
   "execution_count": 661,
   "metadata": {},
   "outputs": [
    {
     "name": "stdout",
     "output_type": "stream",
     "text": [
      "a2c89a8d4857906a\n",
      "fd163ed5c9776080\n",
      "499557c33e67deaf\n",
      "5724a9cf463c8390\n",
      "b2cda211e0e72811\n",
      "77a8a6e2c3a09d19\n",
      "cdfc9e763372599a\n",
      "b33e6a1d4911cf87\n",
      "be307e6647a655c8\n",
      "63f744d672fbb8b4\n",
      "dae788f34bcfcab9\n",
      "5511eaf7873c4a21\n",
      "ca78df0ac32551f2\n",
      "72656e864ca1c972\n",
      "d5778494ce663d7f\n",
      "ebfe035b70080668\n",
      "32d350a70ce39d8f\n",
      "fd5832aa1ca446bc\n",
      "43682a646b9b956f\n",
      "dab5e3680cf6eac7\n",
      "1a0bf11582ae518b\n",
      "d8c7497043e7e5bd\n",
      "99a7172fb7438244\n",
      "f0e0effb1b2de6ae\n",
      "60c62fb7bd17a8b3\n",
      "0e9b7e682e0a79f1\n",
      "f85bbc760000f001\n",
      "4a1e7c670be02cb1\n",
      "fb57dcc651894ae9\n",
      "038c472ae3fd7728\n",
      "107079f548338ac3\n",
      "a730a20ab0c61499\n",
      "e74e3c2a96fa9c55\n",
      "f7e8e689a1e8ac12\n",
      "06287b822837a616\n",
      "91a3854320fa2cec\n",
      "d98d5a3800cd21fb\n",
      "ac82d28aaa5faaf0\n",
      "383f0de18e7ab9c5\n",
      "9cba1f0cdf10a8e5\n",
      "205ad947e8c94901\n",
      "a5f39e8ff1398269\n",
      "c8998aa536614a5a\n",
      "6954b6e02651e353\n",
      "2af50cc7f34f6fc2\n",
      "955f171f7facad27\n",
      "e7cb40d82d987b9e\n",
      "8935fc5943a78c20\n",
      "b71203a58b2269a9\n",
      "6f981a44898fb4ff\n",
      "9eb92b670eebdcd4\n",
      "bf1525f9761a116e\n",
      "70f08a4771138817\n",
      "92e9c53671ac8fe7\n",
      "9afb09b16993180b\n"
     ]
    }
   ],
   "source": [
    "pool = P(cpu_count() * 2)\n",
    "\n",
    "newname = pool.map(Driver, url_list)\n"
   ]
  },
  {
   "cell_type": "code",
   "execution_count": 666,
   "metadata": {},
   "outputs": [],
   "source": [
    "s = pd.DataFrame(newname)"
   ]
  },
  {
   "cell_type": "code",
   "execution_count": 667,
   "metadata": {},
   "outputs": [
    {
     "data": {
      "text/plain": [
       "(55, 278)"
      ]
     },
     "execution_count": 667,
     "metadata": {},
     "output_type": "execute_result"
    }
   ],
   "source": [
    "s.shape"
   ]
  },
  {
   "cell_type": "code",
   "execution_count": 662,
   "metadata": {},
   "outputs": [
    {
     "ename": "Error",
     "evalue": "sequence expected",
     "output_type": "error",
     "traceback": [
      "\u001b[0;31m---------------------------------------------------------------------------\u001b[0m",
      "\u001b[0;31mError\u001b[0m                                     Traceback (most recent call last)",
      "\u001b[0;32m<ipython-input-662-5b2904c0ed0e>\u001b[0m in \u001b[0;36m<module>\u001b[0;34m()\u001b[0m\n\u001b[1;32m      2\u001b[0m     \u001b[0mwriteFile\u001b[0m \u001b[0;34m=\u001b[0m \u001b[0mcsv\u001b[0m\u001b[0;34m.\u001b[0m\u001b[0mwriter\u001b[0m\u001b[0;34m(\u001b[0m\u001b[0mf\u001b[0m\u001b[0;34m)\u001b[0m\u001b[0;34m\u001b[0m\u001b[0m\n\u001b[1;32m      3\u001b[0m     \u001b[0;32mfor\u001b[0m \u001b[0mthing\u001b[0m \u001b[0;32min\u001b[0m \u001b[0mnewname\u001b[0m\u001b[0;34m:\u001b[0m\u001b[0;34m\u001b[0m\u001b[0m\n\u001b[0;32m----> 4\u001b[0;31m         \u001b[0mwriteFile\u001b[0m\u001b[0;34m.\u001b[0m\u001b[0mwriterow\u001b[0m\u001b[0;34m(\u001b[0m\u001b[0mthing\u001b[0m\u001b[0;34m)\u001b[0m\u001b[0;34m\u001b[0m\u001b[0m\n\u001b[0m",
      "\u001b[0;31mError\u001b[0m: sequence expected"
     ]
    }
   ],
   "source": [
    "with open('Test.csv', 'ab') as f:\n",
    "    writeFile = csv.writer(f)\n",
    "    for thing in newname:\n",
    "        writeFile.writerow(thing)"
   ]
  },
  {
   "cell_type": "code",
   "execution_count": 660,
   "metadata": {},
   "outputs": [
    {
     "name": "stdout",
     "output_type": "stream",
     "text": [
      "9afb09b16993180b\n"
     ]
    },
    {
     "data": {
      "text/plain": [
       "{'1_fighter_a_bsa': u'6',\n",
       " '1_fighter_a_bsl': u'5',\n",
       " '1_fighter_a_csa': u'5',\n",
       " '1_fighter_a_csl': u'2',\n",
       " '1_fighter_a_dsa': u'23',\n",
       " '1_fighter_a_dsl': u'12',\n",
       " '1_fighter_a_gsa': u'2',\n",
       " '1_fighter_a_gsl': u'2',\n",
       " '1_fighter_a_hsa': u'22',\n",
       " '1_fighter_a_hsl': u'9',\n",
       " '1_fighter_a_kd': u'0',\n",
       " '1_fighter_a_lsa': u'2',\n",
       " '1_fighter_a_lsl': u'2',\n",
       " '1_fighter_a_passes': u'1',\n",
       " '1_fighter_a_reverses': u'0',\n",
       " '1_fighter_a_ssa': u'30',\n",
       " '1_fighter_a_ssl': u'16',\n",
       " '1_fighter_a_sub_att': u'0',\n",
       " '1_fighter_a_tda': u'4',\n",
       " '1_fighter_a_tdl': u'2',\n",
       " '1_fighter_a_tsa': u'58',\n",
       " '1_fighter_a_tsl': u'43',\n",
       " '1_fighter_b_bsa': u'2',\n",
       " '1_fighter_b_bsl': u'1',\n",
       " '1_fighter_b_csa': u'3',\n",
       " '1_fighter_b_csl': u'1',\n",
       " '1_fighter_b_dsa': u'14',\n",
       " '1_fighter_b_dsl': u'2',\n",
       " '1_fighter_b_gsa': u'0',\n",
       " '1_fighter_b_gsl': u'0',\n",
       " '1_fighter_b_hsa': u'14',\n",
       " '1_fighter_b_hsl': u'1',\n",
       " '1_fighter_b_kd': u'0',\n",
       " '1_fighter_b_lsa': u'1',\n",
       " '1_fighter_b_lsl': u'1',\n",
       " '1_fighter_b_passes': u'0',\n",
       " '1_fighter_b_reverses': u'0',\n",
       " '1_fighter_b_ssa': u'17',\n",
       " '1_fighter_b_ssl': u'3',\n",
       " '1_fighter_b_sub_att': u'0',\n",
       " '1_fighter_b_tda': u'0',\n",
       " '1_fighter_b_tdl': u'0',\n",
       " '1_fighter_b_tsa': u'34',\n",
       " '1_fighter_b_tsl': u'17',\n",
       " '2_fighter_a_bsa': u'5',\n",
       " '2_fighter_a_bsl': u'4',\n",
       " '2_fighter_a_csa': u'0',\n",
       " '2_fighter_a_csl': u'0',\n",
       " '2_fighter_a_dsa': u'6',\n",
       " '2_fighter_a_dsl': u'2',\n",
       " '2_fighter_a_gsa': u'4',\n",
       " '2_fighter_a_gsl': u'4',\n",
       " '2_fighter_a_hsa': u'3',\n",
       " '2_fighter_a_hsl': u'1',\n",
       " '2_fighter_a_kd': u'0',\n",
       " '2_fighter_a_lsa': u'2',\n",
       " '2_fighter_a_lsl': u'1',\n",
       " '2_fighter_a_passes': u'5',\n",
       " '2_fighter_a_reverses': u'0',\n",
       " '2_fighter_a_ssa': u'10',\n",
       " '2_fighter_a_ssl': u'6',\n",
       " '2_fighter_a_sub_att': u'0',\n",
       " '2_fighter_a_tda': u'2',\n",
       " '2_fighter_a_tdl': u'0',\n",
       " '2_fighter_a_tsa': u'46',\n",
       " '2_fighter_a_tsl': u'41',\n",
       " '2_fighter_b_bsa': u'2',\n",
       " '2_fighter_b_bsl': u'2',\n",
       " '2_fighter_b_csa': u'0',\n",
       " '2_fighter_b_csl': u'0',\n",
       " '2_fighter_b_dsa': u'5',\n",
       " '2_fighter_b_dsl': u'2',\n",
       " '2_fighter_b_gsa': u'0',\n",
       " '2_fighter_b_gsl': u'0',\n",
       " '2_fighter_b_hsa': u'3',\n",
       " '2_fighter_b_hsl': u'0',\n",
       " '2_fighter_b_kd': u'0',\n",
       " '2_fighter_b_lsa': u'0',\n",
       " '2_fighter_b_lsl': u'0',\n",
       " '2_fighter_b_passes': u'0',\n",
       " '2_fighter_b_reverses': u'0',\n",
       " '2_fighter_b_ssa': u'5',\n",
       " '2_fighter_b_ssl': u'2',\n",
       " '2_fighter_b_sub_att': u'0',\n",
       " '2_fighter_b_tda': u'0',\n",
       " '2_fighter_b_tdl': u'0',\n",
       " '2_fighter_b_tsa': u'11',\n",
       " '2_fighter_b_tsl': u'7',\n",
       " '3_fighter_a_bsa': u'4',\n",
       " '3_fighter_a_bsl': u'3',\n",
       " '3_fighter_a_csa': u'2',\n",
       " '3_fighter_a_csl': u'2',\n",
       " '3_fighter_a_dsa': u'13',\n",
       " '3_fighter_a_dsl': u'5',\n",
       " '3_fighter_a_gsa': u'3',\n",
       " '3_fighter_a_gsl': u'1',\n",
       " '3_fighter_a_hsa': u'12',\n",
       " '3_fighter_a_hsl': u'3',\n",
       " '3_fighter_a_kd': u'0',\n",
       " '3_fighter_a_lsa': u'2',\n",
       " '3_fighter_a_lsl': u'2',\n",
       " '3_fighter_a_passes': u'2',\n",
       " '3_fighter_a_reverses': u'0',\n",
       " '3_fighter_a_ssa': u'18',\n",
       " '3_fighter_a_ssl': u'8',\n",
       " '3_fighter_a_sub_att': u'0',\n",
       " '3_fighter_a_tda': u'3',\n",
       " '3_fighter_a_tdl': u'1',\n",
       " '3_fighter_a_tsa': u'47',\n",
       " '3_fighter_a_tsl': u'34',\n",
       " '3_fighter_b_bsa': u'3',\n",
       " '3_fighter_b_bsl': u'3',\n",
       " '3_fighter_b_csa': u'5',\n",
       " '3_fighter_b_csl': u'3',\n",
       " '3_fighter_b_dsa': u'12',\n",
       " '3_fighter_b_dsl': u'2',\n",
       " '3_fighter_b_gsa': u'1',\n",
       " '3_fighter_b_gsl': u'0',\n",
       " '3_fighter_b_hsa': u'14',\n",
       " '3_fighter_b_hsl': u'1',\n",
       " '3_fighter_b_kd': u'0',\n",
       " '3_fighter_b_lsa': u'1',\n",
       " '3_fighter_b_lsl': u'1',\n",
       " '3_fighter_b_passes': u'0',\n",
       " '3_fighter_b_reverses': u'0',\n",
       " '3_fighter_b_ssa': u'18',\n",
       " '3_fighter_b_ssl': u'5',\n",
       " '3_fighter_b_sub_att': u'0',\n",
       " '3_fighter_b_tda': u'0',\n",
       " '3_fighter_b_tdl': u'0',\n",
       " '3_fighter_b_tsa': u'55',\n",
       " '3_fighter_b_tsl': u'39',\n",
       " 'date': u'Jan. 07, 2011',\n",
       " 'fighter_a': 'd967f0128c323de6',\n",
       " 'fighter_a_result': u'W',\n",
       " 'fighter_b': u'devin_cole',\n",
       " 'fighter_b_result': u'L',\n",
       " 'method': u'Decision - Unanimous',\n",
       " 'num_rounds': u'3',\n",
       " 'referee': u'Greg Franklin',\n",
       " 'round': u'3',\n",
       " 'score1': u'30 - 27.',\n",
       " 'score2': u'30 - 27.',\n",
       " 'score3': u'30 - 27.',\n",
       " 'time': u'5:00',\n",
       " 'total_fighter_a_bsa': u'15',\n",
       " 'total_fighter_a_bsl': u'12',\n",
       " 'total_fighter_a_csa': u'7',\n",
       " 'total_fighter_a_csl': u'4',\n",
       " 'total_fighter_a_dsa': u'42',\n",
       " 'total_fighter_a_dsl': u'19',\n",
       " 'total_fighter_a_gsa': u'9',\n",
       " 'total_fighter_a_gsl': u'7',\n",
       " 'total_fighter_a_hsa': u'37',\n",
       " 'total_fighter_a_hsl': u'13',\n",
       " 'total_fighter_a_kd': u'0',\n",
       " 'total_fighter_a_lsa': u'6',\n",
       " 'total_fighter_a_lsl': u'5',\n",
       " 'total_fighter_a_passes': u'8',\n",
       " 'total_fighter_a_reverses': u'0',\n",
       " 'total_fighter_a_ssa': u'58',\n",
       " 'total_fighter_a_ssl': u'30',\n",
       " 'total_fighter_a_sub_att': u'0',\n",
       " 'total_fighter_a_tda': u'9',\n",
       " 'total_fighter_a_tdl': u'3',\n",
       " 'total_fighter_a_tsa': u'151',\n",
       " 'total_fighter_a_tsl': u'118',\n",
       " 'total_fighter_b_bsa': u'7',\n",
       " 'total_fighter_b_bsl': u'6',\n",
       " 'total_fighter_b_csa': u'8',\n",
       " 'total_fighter_b_csl': u'4',\n",
       " 'total_fighter_b_dsa': u'31',\n",
       " 'total_fighter_b_dsl': u'6',\n",
       " 'total_fighter_b_gsa': u'1',\n",
       " 'total_fighter_b_gsl': u'0',\n",
       " 'total_fighter_b_hsa': u'31',\n",
       " 'total_fighter_b_hsl': u'2',\n",
       " 'total_fighter_b_kd': u'0',\n",
       " 'total_fighter_b_lsa': u'2',\n",
       " 'total_fighter_b_lsl': u'2',\n",
       " 'total_fighter_b_passes': u'0',\n",
       " 'total_fighter_b_reverses': u'0',\n",
       " 'total_fighter_b_ssa': u'40',\n",
       " 'total_fighter_b_ssl': u'10',\n",
       " 'total_fighter_b_sub_att': u'0',\n",
       " 'total_fighter_b_tda': u'0',\n",
       " 'total_fighter_b_tdl': u'0',\n",
       " 'total_fighter_b_tsa': u'100',\n",
       " 'total_fighter_b_tsl': u'63',\n",
       " 'weight_class': u'Heavyweight Bout'}"
      ]
     },
     "execution_count": 660,
     "metadata": {},
     "output_type": "execute_result"
    }
   ],
   "source": [
    "Driver('9afb09b16993180b')"
   ]
  },
  {
   "cell_type": "code",
   "execution_count": null,
   "metadata": {},
   "outputs": [],
   "source": []
  }
 ],
 "metadata": {
  "kernelspec": {
   "display_name": "Python 2",
   "language": "python",
   "name": "python2"
  },
  "language_info": {
   "codemirror_mode": {
    "name": "ipython",
    "version": 2
   },
   "file_extension": ".py",
   "mimetype": "text/x-python",
   "name": "python",
   "nbconvert_exporter": "python",
   "pygments_lexer": "ipython2",
   "version": "2.7.14"
  }
 },
 "nbformat": 4,
 "nbformat_minor": 2
}
